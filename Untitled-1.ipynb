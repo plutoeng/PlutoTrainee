{
 "cells": [
  {
   "cell_type": "code",
   "execution_count": 1,
   "id": "7f3485b1",
   "metadata": {},
   "outputs": [
    {
     "name": "stdout",
     "output_type": "stream",
     "text": [
      "Hello, World!\n"
     ]
    }
   ],
   "source": [
    "print('Hello, World!')"
   ]
  },
  {
   "cell_type": "code",
   "execution_count": 2,
   "id": "abeab2cd",
   "metadata": {},
   "outputs": [
    {
     "name": "stdout",
     "output_type": "stream",
     "text": [
      "Hello, World!\n"
     ]
    }
   ],
   "source": [
    "m = 'Hello, World!'\n",
    "print(m)"
   ]
  },
  {
   "cell_type": "code",
   "execution_count": 3,
   "id": "9d612ea3",
   "metadata": {},
   "outputs": [
    {
     "name": "stdout",
     "output_type": "stream",
     "text": [
      "Hello, World!\n",
      "Hello, World!\n",
      "Hello, World!\n",
      "Hello, World!\n",
      "Hello, World!\n",
      "Hello, World!\n",
      "Hello, World!\n",
      "Hello, World!\n",
      "Hello, World!\n",
      "Hello, World!\n"
     ]
    }
   ],
   "source": [
    "for i in range(10):\n",
    "    i = 'Hello, World!'\n",
    "    print(i)"
   ]
  },
  {
   "cell_type": "code",
   "execution_count": 4,
   "id": "985441f9",
   "metadata": {},
   "outputs": [
    {
     "name": "stdout",
     "output_type": "stream",
     "text": [
      "Fucking Hello, World!\n"
     ]
    }
   ],
   "source": [
    "m = 'Hello, World!'\n",
    "print(f'Fucking {m}')"
   ]
  },
  {
   "cell_type": "code",
   "execution_count": 6,
   "id": "e31c637d",
   "metadata": {},
   "outputs": [
    {
     "name": "stdout",
     "output_type": "stream",
     "text": [
      "current_time: 2025-04-18 18:32:33.602137 fucking Hello,World!\n"
     ]
    }
   ],
   "source": [
    "from datetime import datetime\n",
    "m = 'Hello,World!'\n",
    "current_time = datetime.now()\n",
    "print(f'current_time: {current_time} fucking {m}')"
   ]
  },
  {
   "cell_type": "code",
   "execution_count": 9,
   "id": "76550e03",
   "metadata": {},
   "outputs": [
    {
     "name": "stdout",
     "output_type": "stream",
     "text": [
      "Hello, World!\n"
     ]
    }
   ],
   "source": [
    "s1 = 'Hello, '\n",
    "s2 = 'World!'\n",
    "hello = lambda s1,s2: s1 + s2\n",
    "print(hello(s1,s2))"
   ]
  },
  {
   "cell_type": "code",
   "execution_count": 10,
   "id": "121941b6",
   "metadata": {},
   "outputs": [
    {
     "name": "stdout",
     "output_type": "stream",
     "text": [
      "Hello, World!\n"
     ]
    }
   ],
   "source": [
    "d = {'Hello, ': 'World!'}\n",
    "for key, value in d.items():\n",
    "    print(key + value)"
   ]
  },
  {
   "cell_type": "code",
   "execution_count": 11,
   "id": "c7ad9a4c",
   "metadata": {},
   "outputs": [
    {
     "name": "stdout",
     "output_type": "stream",
     "text": [
      "Hello, World!\n"
     ]
    }
   ],
   "source": [
    "d = {'Hello, ': 'World!'}\n",
    "for key in d.keys():\n",
    "    for value in d.values():\n",
    "        print(key + value)\n",
    "    "
   ]
  },
  {
   "cell_type": "code",
   "execution_count": 12,
   "id": "4b47d903",
   "metadata": {},
   "outputs": [
    {
     "name": "stdout",
     "output_type": "stream",
     "text": [
      "Hello, World!\n"
     ]
    }
   ],
   "source": [
    "while True:\n",
    "    print('Hello, World!')\n",
    "    break"
   ]
  },
  {
   "cell_type": "code",
   "execution_count": 13,
   "id": "a6285f84",
   "metadata": {},
   "outputs": [
    {
     "name": "stdout",
     "output_type": "stream",
     "text": [
      "Hello, World!\n"
     ]
    }
   ],
   "source": [
    "c = 0\n",
    "while c != 1:\n",
    "    print('Hello, World!')\n",
    "    c += 1"
   ]
  },
  {
   "cell_type": "code",
   "execution_count": 14,
   "id": "dc90cb31",
   "metadata": {},
   "outputs": [
    {
     "ename": "SyntaxError",
     "evalue": "incomplete input (3760671423.py, line 1)",
     "output_type": "error",
     "traceback": [
      "\u001b[1;36m  Cell \u001b[1;32mIn[14], line 1\u001b[1;36m\u001b[0m\n\u001b[1;33m    try:\u001b[0m\n\u001b[1;37m        ^\u001b[0m\n\u001b[1;31mSyntaxError\u001b[0m\u001b[1;31m:\u001b[0m incomplete input\n"
     ]
    }
   ],
   "source": [
    "try:"
   ]
  },
  {
   "cell_type": "code",
   "execution_count": 15,
   "id": "0e1ad6fa",
   "metadata": {},
   "outputs": [
    {
     "ename": "SyntaxError",
     "evalue": "incomplete input (105800698.py, line 2)",
     "output_type": "error",
     "traceback": [
      "\u001b[1;36m  Cell \u001b[1;32mIn[15], line 2\u001b[1;36m\u001b[0m\n\u001b[1;33m    print('start')\u001b[0m\n\u001b[1;37m                  ^\u001b[0m\n\u001b[1;31mSyntaxError\u001b[0m\u001b[1;31m:\u001b[0m incomplete input\n"
     ]
    }
   ],
   "source": [
    "try: \n",
    "    print('start')"
   ]
  },
  {
   "cell_type": "code",
   "execution_count": 18,
   "id": "7e077585",
   "metadata": {},
   "outputs": [
    {
     "ename": "ModuleNotFoundError",
     "evalue": "No module named 'art'",
     "output_type": "error",
     "traceback": [
      "\u001b[1;31m---------------------------------------------------------------------------\u001b[0m",
      "\u001b[1;31mModuleNotFoundError\u001b[0m                       Traceback (most recent call last)",
      "Cell \u001b[1;32mIn[18], line 1\u001b[0m\n\u001b[1;32m----> 1\u001b[0m \u001b[38;5;28;01mfrom\u001b[39;00m\u001b[38;5;250m \u001b[39m\u001b[38;5;21;01mart\u001b[39;00m\u001b[38;5;250m \u001b[39m\u001b[38;5;28;01mimport\u001b[39;00m text2art\n\u001b[0;32m      3\u001b[0m a \u001b[38;5;241m=\u001b[39m text2art(\u001b[38;5;124m'\u001b[39m\u001b[38;5;124mCаша, ты вонюччкаааа\u001b[39m\u001b[38;5;124m'\u001b[39m, font \u001b[38;5;241m=\u001b[39m \u001b[38;5;124m'\u001b[39m\u001b[38;5;124mblock\u001b[39m\u001b[38;5;124m'\u001b[39m)\n\u001b[0;32m      4\u001b[0m \u001b[38;5;28mprint\u001b[39m(a)\n",
      "\u001b[1;31mModuleNotFoundError\u001b[0m: No module named 'art'"
     ]
    }
   ],
   "source": [
    "from art import text2art\n",
    "\n",
    "a = text2art('Cаша, ты вонюччкаааа', font = 'block')\n",
    "print(a)"
   ]
  },
  {
   "cell_type": "code",
   "execution_count": 22,
   "id": "18b7e651",
   "metadata": {},
   "outputs": [
    {
     "name": "stdout",
     "output_type": "stream",
     "text": [
      "7\n",
      "103\n"
     ]
    }
   ],
   "source": [
    "a = 999\n",
    "print(a//128)\n",
    "print(a%128)"
   ]
  },
  {
   "cell_type": "code",
   "execution_count": 25,
   "id": "85100efd",
   "metadata": {},
   "outputs": [
    {
     "name": "stdout",
     "output_type": "stream",
     "text": [
      "108\n"
     ]
    }
   ],
   "source": [
    "n = int(input())\n",
    "while str(n)[0] != '1' and n < 1000000000:\n",
    "    n = int(str(n)[0]) * n\n",
    "print(n)"
   ]
  },
  {
   "cell_type": "code",
   "execution_count": 27,
   "id": "38733d31",
   "metadata": {},
   "outputs": [
    {
     "name": "stdout",
     "output_type": "stream",
     "text": [
      "Введен неправильный пароль!\n",
      "Лимит попыток = 2\n",
      "Введен неправильный пароль!\n",
      "Лимит попыток = 1\n",
      "Вы ввели правильный пароль! Добро пожаловать!\n",
      "Вы ввели правильный пароль! Добро пожаловать!\n",
      "Вы ввели правильный пароль! Добро пожаловать!\n",
      "Введен неправильный пароль!\n",
      "Лимит попыток = 0\n"
     ]
    }
   ],
   "source": [
    "s = str(input())\n",
    "c = 3\n",
    "while c > 0:\n",
    "    n = str(input())\n",
    "    if n != s:\n",
    "        c -= 1\n",
    "        print('Введен неправильный пароль!')\n",
    "        print(f'Лимит попыток = {c}')\n",
    "    else:\n",
    "        print('Вы ввели правильный пароль! Добро пожаловать!')"
   ]
  },
  {
   "cell_type": "code",
   "execution_count": 29,
   "id": "33d737c2",
   "metadata": {},
   "outputs": [
    {
     "name": "stdout",
     "output_type": "stream",
     "text": [
      "7\n"
     ]
    }
   ],
   "source": [
    "n = int(input())\n",
    "c = 0\n",
    "t = 1\n",
    "while n > 0:\n",
    "    n -= t\n",
    "    t += 1\n",
    "    c += 1\n",
    "print(c)  "
   ]
  },
  {
   "cell_type": "code",
   "execution_count": 33,
   "id": "323e1ad6",
   "metadata": {},
   "outputs": [],
   "source": [
    "with open('C:/Users/Nikita/Desktop/pluto/plutotext.txt','w') as pfile:\n",
    "    pfile.write('Ya Pidoras\\n')\n",
    "    pfile.write('Ya Pidoras\\n')"
   ]
  },
  {
   "cell_type": "code",
   "execution_count": 37,
   "id": "c3114115",
   "metadata": {},
   "outputs": [
    {
     "name": "stdout",
     "output_type": "stream",
     "text": [
      "Ya Pidoras\n",
      "Ya Pidoras\n",
      "\n"
     ]
    }
   ],
   "source": [
    "with open('C:/Users/Nikita/Desktop/pluto/plutotext.txt','r') as rfile:\n",
    "    read = rfile.read()\n",
    "    print(read)\n",
    "    "
   ]
  },
  {
   "cell_type": "code",
   "execution_count": 45,
   "id": "9459f185",
   "metadata": {},
   "outputs": [
    {
     "name": "stdout",
     "output_type": "stream",
     "text": [
      "      Series_reference   Period  Data_value Suppressed STATUS   UNITS  \\\n",
      "0          BDCQ.SEA1AA  2011.06     80078.0        NaN      F  Number   \n",
      "1          BDCQ.SEA1AA  2011.09     78324.0        NaN      F  Number   \n",
      "2          BDCQ.SEA1AA  2011.12     85850.0        NaN      F  Number   \n",
      "3          BDCQ.SEA1AA  2012.03     90743.0        NaN      F  Number   \n",
      "4          BDCQ.SEA1AA  2012.06     81780.0        NaN      F  Number   \n",
      "...                ...      ...         ...        ...    ...     ...   \n",
      "24119    BDCQ.SEE3999A  2017.06         NaN          Y      F  Number   \n",
      "24120    BDCQ.SEE3999A  2017.09         NaN          Y      F  Number   \n",
      "24121    BDCQ.SEE3999A  2017.12         NaN          Y      F  Number   \n",
      "24122    BDCQ.SEE3999A  2018.03         NaN          Y      F  Number   \n",
      "24123    BDCQ.SEE3999A  2018.06         NaN          Y      F  Number   \n",
      "\n",
      "       Magnitude                         Subject  \\\n",
      "0              0  Business Data Collection - BDC   \n",
      "1              0  Business Data Collection - BDC   \n",
      "2              0  Business Data Collection - BDC   \n",
      "3              0  Business Data Collection - BDC   \n",
      "4              0  Business Data Collection - BDC   \n",
      "...          ...                             ...   \n",
      "24119          0  Business Data Collection - BDC   \n",
      "24120          0  Business Data Collection - BDC   \n",
      "24121          0  Business Data Collection - BDC   \n",
      "24122          0  Business Data Collection - BDC   \n",
      "24123          0  Business Data Collection - BDC   \n",
      "\n",
      "                                              Group  \\\n",
      "0                   Industry by employment variable   \n",
      "1                   Industry by employment variable   \n",
      "2                   Industry by employment variable   \n",
      "3                   Industry by employment variable   \n",
      "4                   Industry by employment variable   \n",
      "...                                             ...   \n",
      "24119  Territorial authority by employment variable   \n",
      "24120  Territorial authority by employment variable   \n",
      "24121  Territorial authority by employment variable   \n",
      "24122  Territorial authority by employment variable   \n",
      "24123  Territorial authority by employment variable   \n",
      "\n",
      "                               Series_title_1  \\\n",
      "0                                 Filled jobs   \n",
      "1                                 Filled jobs   \n",
      "2                                 Filled jobs   \n",
      "3                                 Filled jobs   \n",
      "4                                 Filled jobs   \n",
      "...                                       ...   \n",
      "24119  Filled jobs (workplace location based)   \n",
      "24120  Filled jobs (workplace location based)   \n",
      "24121  Filled jobs (workplace location based)   \n",
      "24122  Filled jobs (workplace location based)   \n",
      "24123  Filled jobs (workplace location based)   \n",
      "\n",
      "                           Series_title_2 Series_title_3  Series_title_4  \\\n",
      "0       Agriculture, Forestry and Fishing         Actual             NaN   \n",
      "1       Agriculture, Forestry and Fishing         Actual             NaN   \n",
      "2       Agriculture, Forestry and Fishing         Actual             NaN   \n",
      "3       Agriculture, Forestry and Fishing         Actual             NaN   \n",
      "4       Agriculture, Forestry and Fishing         Actual             NaN   \n",
      "...                                   ...            ...             ...   \n",
      "24119  Area Outside Territorial Authority         Actual             NaN   \n",
      "24120  Area Outside Territorial Authority         Actual             NaN   \n",
      "24121  Area Outside Territorial Authority         Actual             NaN   \n",
      "24122  Area Outside Territorial Authority         Actual             NaN   \n",
      "24123  Area Outside Territorial Authority         Actual             NaN   \n",
      "\n",
      "       Series_title_5  \n",
      "0                 NaN  \n",
      "1                 NaN  \n",
      "2                 NaN  \n",
      "3                 NaN  \n",
      "4                 NaN  \n",
      "...               ...  \n",
      "24119             NaN  \n",
      "24120             NaN  \n",
      "24121             NaN  \n",
      "24122             NaN  \n",
      "24123             NaN  \n",
      "\n",
      "[24124 rows x 14 columns]\n"
     ]
    }
   ],
   "source": [
    "import pandas as pd\n",
    "df = pd.read_csv('C:/Users/Nikita/Desktop/pluto/machine-readable-business-employment-data-dec-2024-quarter.csv')\n",
    "print(df)"
   ]
  },
  {
   "cell_type": "code",
   "execution_count": 48,
   "id": "386fd791",
   "metadata": {},
   "outputs": [
    {
     "name": "stdout",
     "output_type": "stream",
     "text": [
      "   id    name  age\n",
      "0   1  Nikita   20\n",
      "1   2   Sasha   20\n",
      "2   3   Ilyas   21\n"
     ]
    }
   ],
   "source": [
    "import pandas as pd\n",
    "df = pd.read_csv('C:/Users/Nikita/Desktop/pluto/plutodata.csv')\n",
    "print(df)"
   ]
  },
  {
   "cell_type": "code",
   "execution_count": null,
   "id": "25281e38",
   "metadata": {},
   "outputs": [
    {
     "ename": "AttributeError",
     "evalue": "module 'matplotlib' has no attribute 'get_data_path'",
     "output_type": "error",
     "traceback": [
      "\u001b[1;31m---------------------------------------------------------------------------\u001b[0m",
      "\u001b[1;31mAttributeError\u001b[0m                            Traceback (most recent call last)",
      "Cell \u001b[1;32mIn[81], line 2\u001b[0m\n\u001b[0;32m      1\u001b[0m \u001b[38;5;28;01mimport\u001b[39;00m\u001b[38;5;250m \u001b[39m\u001b[38;5;21;01mpandas\u001b[39;00m\u001b[38;5;250m \u001b[39m\u001b[38;5;28;01mas\u001b[39;00m\u001b[38;5;250m \u001b[39m\u001b[38;5;21;01mpd\u001b[39;00m\n\u001b[1;32m----> 2\u001b[0m \u001b[38;5;28;01mimport\u001b[39;00m\u001b[38;5;250m \u001b[39m\u001b[38;5;21;01mmatplotlib\u001b[39;00m\u001b[38;5;250m \u001b[39m\u001b[38;5;28;01mas\u001b[39;00m\u001b[38;5;250m \u001b[39m\u001b[38;5;21;01mplt\u001b[39;00m\n\u001b[0;32m      3\u001b[0m plutopar \u001b[38;5;241m=\u001b[39m pd\u001b[38;5;241m.\u001b[39mDataFrame({\n\u001b[0;32m      4\u001b[0m     \u001b[38;5;124m'\u001b[39m\u001b[38;5;124muser_id\u001b[39m\u001b[38;5;124m'\u001b[39m: \u001b[38;5;28mrange\u001b[39m(\u001b[38;5;241m1\u001b[39m,\u001b[38;5;241m7\u001b[39m),\n\u001b[0;32m      5\u001b[0m     \u001b[38;5;124m'\u001b[39m\u001b[38;5;124mname\u001b[39m\u001b[38;5;124m'\u001b[39m: [\u001b[38;5;124m'\u001b[39m\u001b[38;5;124mNikita\u001b[39m\u001b[38;5;124m'\u001b[39m, \u001b[38;5;124m'\u001b[39m\u001b[38;5;124mSasha\u001b[39m\u001b[38;5;124m'\u001b[39m, \u001b[38;5;124m'\u001b[39m\u001b[38;5;124mIlyas\u001b[39m\u001b[38;5;124m'\u001b[39m, \u001b[38;5;124m'\u001b[39m\u001b[38;5;124mMurat\u001b[39m\u001b[38;5;124m'\u001b[39m, \u001b[38;5;124m'\u001b[39m\u001b[38;5;124mElnar\u001b[39m\u001b[38;5;124m'\u001b[39m, \u001b[38;5;124m'\u001b[39m\u001b[38;5;124mBig Smoke\u001b[39m\u001b[38;5;124m'\u001b[39m],\n\u001b[0;32m      6\u001b[0m     \u001b[38;5;124m'\u001b[39m\u001b[38;5;124miq\u001b[39m\u001b[38;5;124m'\u001b[39m: [\u001b[38;5;241m200\u001b[39m,\u001b[38;5;241m100\u001b[39m,\u001b[38;5;241m100\u001b[39m,\u001b[38;5;241m100\u001b[39m,\u001b[38;5;241m100\u001b[39m,\u001b[38;5;241m40\u001b[39m]\n\u001b[0;32m      7\u001b[0m })\n\u001b[0;32m      8\u001b[0m plutopar\u001b[38;5;241m.\u001b[39mto_parquet(\u001b[38;5;124m'\u001b[39m\u001b[38;5;124mC:/Users/Nikita/Desktop/pluto/plutopar.parquet\u001b[39m\u001b[38;5;124m'\u001b[39m,index \u001b[38;5;241m=\u001b[39m \u001b[38;5;28;01mTrue\u001b[39;00m)\n",
      "File \u001b[1;32mc:\\Users\\Nikita\\AppData\\Local\\Programs\\Python\\Python310\\lib\\site-packages\\matplotlib\\__init__.py:998\u001b[0m\n\u001b[0;32m    992\u001b[0m     _log\u001b[38;5;241m.\u001b[39mdebug(\u001b[38;5;124m'\u001b[39m\u001b[38;5;124mloaded rc file \u001b[39m\u001b[38;5;132;01m%s\u001b[39;00m\u001b[38;5;124m'\u001b[39m, fname)\n\u001b[0;32m    994\u001b[0m     \u001b[38;5;28;01mreturn\u001b[39;00m config\n\u001b[0;32m    997\u001b[0m rcParamsDefault \u001b[38;5;241m=\u001b[39m _rc_params_in_file(\n\u001b[1;32m--> 998\u001b[0m     \u001b[43mcbook\u001b[49m\u001b[38;5;241;43m.\u001b[39;49m\u001b[43m_get_data_path\u001b[49m\u001b[43m(\u001b[49m\u001b[38;5;124;43m\"\u001b[39;49m\u001b[38;5;124;43mmatplotlibrc\u001b[39;49m\u001b[38;5;124;43m\"\u001b[39;49m\u001b[43m)\u001b[49m,\n\u001b[0;32m    999\u001b[0m     \u001b[38;5;66;03m# Strip leading comment.\u001b[39;00m\n\u001b[0;32m   1000\u001b[0m     transform\u001b[38;5;241m=\u001b[39m\u001b[38;5;28;01mlambda\u001b[39;00m line: line[\u001b[38;5;241m1\u001b[39m:] \u001b[38;5;28;01mif\u001b[39;00m line\u001b[38;5;241m.\u001b[39mstartswith(\u001b[38;5;124m\"\u001b[39m\u001b[38;5;124m#\u001b[39m\u001b[38;5;124m\"\u001b[39m) \u001b[38;5;28;01melse\u001b[39;00m line,\n\u001b[0;32m   1001\u001b[0m     fail_on_error\u001b[38;5;241m=\u001b[39m\u001b[38;5;28;01mTrue\u001b[39;00m)\n\u001b[0;32m   1002\u001b[0m rcParamsDefault\u001b[38;5;241m.\u001b[39m_update_raw(rcsetup\u001b[38;5;241m.\u001b[39m_hardcoded_defaults)\n\u001b[0;32m   1003\u001b[0m rcParamsDefault\u001b[38;5;241m.\u001b[39m_ensure_has_backend()\n",
      "File \u001b[1;32mc:\\Users\\Nikita\\AppData\\Local\\Programs\\Python\\Python310\\lib\\site-packages\\matplotlib\\cbook.py:603\u001b[0m, in \u001b[0;36m_get_data_path\u001b[1;34m(*args)\u001b[0m\n\u001b[0;32m    597\u001b[0m \u001b[38;5;28;01mdef\u001b[39;00m\u001b[38;5;250m \u001b[39m\u001b[38;5;21m_get_data_path\u001b[39m(\u001b[38;5;241m*\u001b[39margs):\n\u001b[0;32m    598\u001b[0m \u001b[38;5;250m    \u001b[39m\u001b[38;5;124;03m\"\"\"\u001b[39;00m\n\u001b[0;32m    599\u001b[0m \u001b[38;5;124;03m    Return the `pathlib.Path` to a resource file provided by Matplotlib.\u001b[39;00m\n\u001b[0;32m    600\u001b[0m \n\u001b[0;32m    601\u001b[0m \u001b[38;5;124;03m    ``*args`` specify a path relative to the base data path.\u001b[39;00m\n\u001b[0;32m    602\u001b[0m \u001b[38;5;124;03m    \"\"\"\u001b[39;00m\n\u001b[1;32m--> 603\u001b[0m     \u001b[38;5;28;01mreturn\u001b[39;00m Path(\u001b[43mmatplotlib\u001b[49m\u001b[38;5;241;43m.\u001b[39;49m\u001b[43mget_data_path\u001b[49m(), \u001b[38;5;241m*\u001b[39margs)\n",
      "\u001b[1;31mAttributeError\u001b[0m: module 'matplotlib' has no attribute 'get_data_path'"
     ]
    }
   ],
   "source": [
    "#pandas!!!!\n",
    "import pandas as pd\n",
    "import matplotlib as plt\n",
    "plutopar = pd.DataFrame({\n",
    "    'user_id': range(1,7),\n",
    "    'name': ['Nikita', 'Sasha', 'Ilyas', 'Murat', 'Elnar', 'Big Smoke'],\n",
    "    'iq': [200,100,100,100,100,40]\n",
    "})\n",
    "plutopar.to_parquet('C:/Users/Nikita/Desktop/pluto/plutopar.parquet',index = True)\n",
    "df_pluto = pd.read_parquet('C:/Users/Nikita/Desktop/pluto/plutopar.parquet')\n",
    "print(df_pluto)\n",
    "high_iq = plutopar[plutopar['iq']> 100]\n",
    "print(high_iq)\n",
    "sort_par = plutopar.sort_values(by = 'iq',ascending = True)\n",
    "print(sort_par)\n",
    "group = plutopar.groupby('iq')['name'].count().reset_index()\n",
    "print(group)\n",
    "plutopar('iq').plot(kind = 'hist', bins = 10, title = 'from smart to stupid')\n",
    "plt.xlabel('iq')\n",
    "plt.show()"
   ]
  },
  {
   "cell_type": "code",
   "execution_count": 103,
   "id": "97480fa2",
   "metadata": {},
   "outputs": [
    {
     "name": "stdout",
     "output_type": "stream",
     "text": [
      "2025-04-25 21:45:30\n",
      "April 25, 2025 - 21:45:30\n",
      "2025-06-24 21:58:05.681509\n",
      "June 24, 2025 - 21:58:05\n",
      "30\n",
      "2025\n",
      "4\n"
     ]
    }
   ],
   "source": [
    "#datetime!!!!\n",
    "from datetime import datetime as dt\n",
    "from datetime import timedelta\n",
    "date_now = '2025-04-25 21:45:30'\n",
    "date_obj = dt.strptime(date_now, '%Y-%m-%d %H:%M:%S')\n",
    "print(date_obj)\n",
    "date_form = dt.strftime(date_obj, '%B %d, %Y - %H:%M:%S')\n",
    "print(date_form)\n",
    "current_time = dt.now()\n",
    "future = current_time + timedelta(days = 60)\n",
    "print(future)\n",
    "dfuture = dt.strftime(future, '%B %d, %Y - %H:%M:%S')\n",
    "\n",
    "print(dfuture)\n",
    "print(date_obj.second)\n",
    "print(future.year)\n",
    "print(date_obj.month)\n"
   ]
  },
  {
   "cell_type": "code",
   "execution_count": 1,
   "id": "46f119b3",
   "metadata": {},
   "outputs": [
    {
     "name": "stdout",
     "output_type": "stream",
     "text": [
      "fuck you\n"
     ]
    }
   ],
   "source": [
    "print(\"fuck you\")"
   ]
  },
  {
   "cell_type": "code",
   "execution_count": 5,
   "id": "febb2862",
   "metadata": {},
   "outputs": [
    {
     "name": "stdout",
     "output_type": "stream",
     "text": [
      "3\n"
     ]
    }
   ],
   "source": [
    "a,b = int(input()),int(input())\n",
    "print(a+b)"
   ]
  }
 ],
 "metadata": {
  "kernelspec": {
   "display_name": "Python 3",
   "language": "python",
   "name": "python3"
  },
  "language_info": {
   "codemirror_mode": {
    "name": "ipython",
    "version": 3
   },
   "file_extension": ".py",
   "mimetype": "text/x-python",
   "name": "python",
   "nbconvert_exporter": "python",
   "pygments_lexer": "ipython3",
   "version": "3.10.4"
  }
 },
 "nbformat": 4,
 "nbformat_minor": 5
}
